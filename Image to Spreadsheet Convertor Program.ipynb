{
 "cells": [
  {
   "cell_type": "code",
   "execution_count": 1,
   "id": "fb30c7d7",
   "metadata": {},
   "outputs": [
    {
     "name": "stdout",
     "output_type": "stream",
     "text": [
      "Requirement already satisfied: pytesseract in c:\\users\\shine\\anaconda3\\lib\\site-packages (0.3.10)\n",
      "Requirement already satisfied: packaging>=21.3 in c:\\users\\shine\\anaconda3\\lib\\site-packages (from pytesseract) (21.3)\n",
      "Requirement already satisfied: Pillow>=8.0.0 in c:\\users\\shine\\anaconda3\\lib\\site-packages (from pytesseract) (9.0.1)\n",
      "Requirement already satisfied: pyparsing!=3.0.5,>=2.0.2 in c:\\users\\shine\\anaconda3\\lib\\site-packages (from packaging>=21.3->pytesseract) (3.0.4)\n",
      "Note: you may need to restart the kernel to use updated packages.\n"
     ]
    }
   ],
   "source": [
    "pip install pytesseract\n"
   ]
  },
  {
   "cell_type": "code",
   "execution_count": 2,
   "id": "6cbbd148",
   "metadata": {},
   "outputs": [
    {
     "name": "stdout",
     "output_type": "stream",
     "text": [
      "Requirement already satisfied: opencv-python in c:\\users\\shine\\anaconda3\\lib\\site-packages (4.7.0.72)\n",
      "Requirement already satisfied: numpy>=1.17.3 in c:\\users\\shine\\anaconda3\\lib\\site-packages (from opencv-python) (1.21.5)\n",
      "Note: you may need to restart the kernel to use updated packages.\n"
     ]
    }
   ],
   "source": [
    "pip install opencv-python\n"
   ]
  },
  {
   "cell_type": "code",
   "execution_count": 7,
   "id": "bf2e04e0",
   "metadata": {},
   "outputs": [
    {
     "data": {
      "text/plain": [
       "'Items you want to keep in warehouse\\n\\nModern Cheap Female Clothing\\nModern Cheap Male Clothing\\nModern Expensive Female Clothing\\nModern Expensive Male Clothing\\nExpensive Jewelry\\n\\nCigar\\n\\nPaperbag\\n\\nBottle of Wine\\nFrench Fries\\n\\nPizza\\n\\nSalad\\n\\nSoda Can\\n\\nCurrent Inventory Level\\n\\nQuantity perbox Current Stock\\n50 562\\n50 564\\n50 98\\n50 0\\n50 1022\\n\\n225\\n1000 16889\\n25 1350\\n200\\n60\\n350\\n60\\n\\nBoxes\\n\\n11,24\\n11,28\\n1,96\\n0,00\\n20,44\\n967\\n16,89\\n\\n54,00\\n126,00\\n\\n26,25\\n'"
      ]
     },
     "execution_count": 7,
     "metadata": {},
     "output_type": "execute_result"
    }
   ],
   "source": [
    "import cv2\n",
    "import pytesseract\n",
    "import pandas as pd\n",
    "\n",
    "pytesseract.pytesseract.tesseract_cmd = r'C:\\Program Files\\Tesseract-OCR\\tesseract.exe'\n",
    "\n",
    "# Load the image file\n",
    "img = cv2.imread('Sample OCR.png')\n",
    "\n",
    "# Extract text using Tesseract OCR\n",
    "text = pytesseract.image_to_string(img)\n",
    "\n",
    "# Clean up the text\n",
    "#text = text.replace('\\n\\n', '\\n').replace('\\n \\n', '\\n').strip()\n",
    "\n",
    "# Split the text into rows and columns\n",
    "#rows = text.split('\\n')\n",
    "#cols = [row.split('\\t') for row in rows]\n",
    "\n",
    "# Convert the data into a pandas DataFrame\n",
    "#df = pd.DataFrame(cols)\n",
    "\n",
    "# Write the DataFrame to an Excel file\n",
    "#df.to_excel('table.xlsx', index=False, header=False)\n",
    "\n",
    "text"
   ]
  },
  {
   "cell_type": "code",
   "execution_count": 8,
   "id": "ce41dc03",
   "metadata": {},
   "outputs": [
    {
     "name": "stdout",
     "output_type": "stream",
     "text": [
      "Items you want to keep in warehouse\tQuantity per box\tCurrent Stock\tBoxes\n",
      "Quantity perbox Current Stock\t50\t562\t11,24\n",
      "50\t564\t50\t11,28\n",
      "98\t50\t0\t1,96\n",
      "50\t1022\t225\t0,00\n",
      "1000\t16889\t25\t20,44\n",
      "1350\t200\t60\t16,89\n",
      "20,44\t967\t16\t54,00\n",
      "\n"
     ]
    }
   ],
   "source": [
    "import re\n",
    "\n",
    "# extract the item names, quantities, and current stock levels using regex\n",
    "items = re.findall(r'(\\S.*?)\\s+(\\d+)\\s+(\\d+)\\s*', text)\n",
    "\n",
    "# extract the box quantities and box numbers using regex\n",
    "boxes = re.findall(r'(\\d+,\\d+)\\s*', text)\n",
    "\n",
    "# format the items and boxes into a table\n",
    "table = 'Items you want to keep in warehouse\\tQuantity per box\\tCurrent Stock\\tBoxes\\n'\n",
    "for i, item in enumerate(items):\n",
    "    box_quantity, current_stock = item[1], item[2]\n",
    "    box_number = boxes[i] if i < len(boxes) else ''\n",
    "    table += f'{item[0]}\\t{box_quantity}\\t{current_stock}\\t{box_number}\\n'\n",
    "\n",
    "# extract the current inventory level and add it to the table\n",
    "inventory_level = re.findall(r'Current Inventory Level\\s+(\\d+,\\d+)\\s*', text)\n",
    "if inventory_level:\n",
    "    table += f'\\nCurrent Inventory Level\\t\\t\\t{inventory_level[0]}'\n",
    "\n",
    "# print the table\n",
    "print(table)\n"
   ]
  },
  {
   "cell_type": "code",
   "execution_count": null,
   "id": "d5a5f11f",
   "metadata": {},
   "outputs": [],
   "source": []
  }
 ],
 "metadata": {
  "kernelspec": {
   "display_name": "Python 3 (ipykernel)",
   "language": "python",
   "name": "python3"
  },
  "language_info": {
   "codemirror_mode": {
    "name": "ipython",
    "version": 3
   },
   "file_extension": ".py",
   "mimetype": "text/x-python",
   "name": "python",
   "nbconvert_exporter": "python",
   "pygments_lexer": "ipython3",
   "version": "3.9.12"
  }
 },
 "nbformat": 4,
 "nbformat_minor": 5
}
