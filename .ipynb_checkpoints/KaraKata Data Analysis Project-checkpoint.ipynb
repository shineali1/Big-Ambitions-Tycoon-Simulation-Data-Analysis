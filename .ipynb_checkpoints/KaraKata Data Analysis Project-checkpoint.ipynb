{
 "cells": [
  {
   "cell_type": "code",
   "execution_count": 10,
   "id": "c84ac83b",
   "metadata": {},
   "outputs": [
    {
     "data": {
      "text/html": [
       "<div>\n",
       "<style scoped>\n",
       "    .dataframe tbody tr th:only-of-type {\n",
       "        vertical-align: middle;\n",
       "    }\n",
       "\n",
       "    .dataframe tbody tr th {\n",
       "        vertical-align: top;\n",
       "    }\n",
       "\n",
       "    .dataframe thead th {\n",
       "        text-align: right;\n",
       "    }\n",
       "</style>\n",
       "<table border=\"1\" class=\"dataframe\">\n",
       "  <thead>\n",
       "    <tr style=\"text-align: right;\">\n",
       "      <th></th>\n",
       "      <th>Address</th>\n",
       "      <th>Day</th>\n",
       "      <th>Details</th>\n",
       "      <th>Amount</th>\n",
       "      <th>Balance</th>\n",
       "    </tr>\n",
       "  </thead>\n",
       "  <tbody>\n",
       "    <tr>\n",
       "      <th>0</th>\n",
       "      <td>37 3rd Street Deposit</td>\n",
       "      <td>1</td>\n",
       "      <td>Deposit</td>\n",
       "      <td>-374.360500</td>\n",
       "      <td>98394.95</td>\n",
       "    </tr>\n",
       "    <tr>\n",
       "      <th>1</th>\n",
       "      <td>37 3rd Street Rent</td>\n",
       "      <td>1</td>\n",
       "      <td>Rent</td>\n",
       "      <td>-9.478683</td>\n",
       "      <td>98385.47</td>\n",
       "    </tr>\n",
       "    <tr>\n",
       "      <th>2</th>\n",
       "      <td>UMC Desert</td>\n",
       "      <td>1</td>\n",
       "      <td>VehicleBought</td>\n",
       "      <td>-6000.000000</td>\n",
       "      <td>92385.47</td>\n",
       "    </tr>\n",
       "    <tr>\n",
       "      <th>3</th>\n",
       "      <td>Purchase from Mr. Scott's Office Supplies</td>\n",
       "      <td>1</td>\n",
       "      <td>ItemPurchase</td>\n",
       "      <td>-4800.000000</td>\n",
       "      <td>87585.47</td>\n",
       "    </tr>\n",
       "    <tr>\n",
       "      <th>4</th>\n",
       "      <td>Purchase from Mr. Scott's Office Supplies</td>\n",
       "      <td>1</td>\n",
       "      <td>ItemPurchase</td>\n",
       "      <td>-3600.000000</td>\n",
       "      <td>83985.47</td>\n",
       "    </tr>\n",
       "    <tr>\n",
       "      <th>...</th>\n",
       "      <td>...</td>\n",
       "      <td>...</td>\n",
       "      <td>...</td>\n",
       "      <td>...</td>\n",
       "      <td>...</td>\n",
       "    </tr>\n",
       "    <tr>\n",
       "      <th>8412</th>\n",
       "      <td>Marketing campaigns for Katalytica</td>\n",
       "      <td>220</td>\n",
       "      <td>Marketing</td>\n",
       "      <td>-500.000000</td>\n",
       "      <td>2214973.00</td>\n",
       "    </tr>\n",
       "    <tr>\n",
       "      <th>8413</th>\n",
       "      <td>Marketing campaigns for Kalico Midtown</td>\n",
       "      <td>220</td>\n",
       "      <td>Marketing</td>\n",
       "      <td>-2750.000000</td>\n",
       "      <td>2212223.00</td>\n",
       "    </tr>\n",
       "    <tr>\n",
       "      <th>8414</th>\n",
       "      <td>Marketing campaigns for Karvin Kueen</td>\n",
       "      <td>220</td>\n",
       "      <td>Marketing</td>\n",
       "      <td>-500.000000</td>\n",
       "      <td>2211723.00</td>\n",
       "    </tr>\n",
       "    <tr>\n",
       "      <th>8415</th>\n",
       "      <td>Marketing campaigns for Elite Couture</td>\n",
       "      <td>220</td>\n",
       "      <td>Marketing</td>\n",
       "      <td>-1350.000000</td>\n",
       "      <td>2210373.00</td>\n",
       "    </tr>\n",
       "    <tr>\n",
       "      <th>8416</th>\n",
       "      <td>Marketing campaigns for Elite Jewels</td>\n",
       "      <td>220</td>\n",
       "      <td>Marketing</td>\n",
       "      <td>-9350.000000</td>\n",
       "      <td>2201023.00</td>\n",
       "    </tr>\n",
       "  </tbody>\n",
       "</table>\n",
       "<p>5217 rows × 5 columns</p>\n",
       "</div>"
      ],
      "text/plain": [
       "                                        Address  Day        Details  \\\n",
       "0                         37 3rd Street Deposit    1        Deposit   \n",
       "1                            37 3rd Street Rent    1           Rent   \n",
       "2                                    UMC Desert    1  VehicleBought   \n",
       "3     Purchase from Mr. Scott's Office Supplies    1   ItemPurchase   \n",
       "4     Purchase from Mr. Scott's Office Supplies    1   ItemPurchase   \n",
       "...                                         ...  ...            ...   \n",
       "8412         Marketing campaigns for Katalytica  220      Marketing   \n",
       "8413     Marketing campaigns for Kalico Midtown  220      Marketing   \n",
       "8414       Marketing campaigns for Karvin Kueen  220      Marketing   \n",
       "8415      Marketing campaigns for Elite Couture  220      Marketing   \n",
       "8416       Marketing campaigns for Elite Jewels  220      Marketing   \n",
       "\n",
       "           Amount     Balance  \n",
       "0     -374.360500    98394.95  \n",
       "1       -9.478683    98385.47  \n",
       "2    -6000.000000    92385.47  \n",
       "3    -4800.000000    87585.47  \n",
       "4    -3600.000000    83985.47  \n",
       "...           ...         ...  \n",
       "8412  -500.000000  2214973.00  \n",
       "8413 -2750.000000  2212223.00  \n",
       "8414  -500.000000  2211723.00  \n",
       "8415 -1350.000000  2210373.00  \n",
       "8416 -9350.000000  2201023.00  \n",
       "\n",
       "[5217 rows x 5 columns]"
      ]
     },
     "execution_count": 10,
     "metadata": {},
     "output_type": "execute_result"
    }
   ],
   "source": [
    "#Importing the necessary libraries\n",
    "import pandas as pd\n",
    "import matplotlib.pyplot as plt\n",
    "\n",
    "#Combining various CSV files of the ledger obtained from the game after each playthrough.\n",
    "T1 = pd.read_csv(\"Transactions0.csv\")\n",
    "T1.columns = ['Address', 'Day', 'Details', 'Amount', 'Balance']\n",
    "T2 = pd.read_csv(\"Transactions1.csv\")\n",
    "T2.columns = ['Address', 'Day', 'Details', 'Amount', 'Balance']\n",
    "T3 = pd.read_csv(\"Transactions2.csv\")\n",
    "T3.columns = ['Address', 'Day', 'Details', 'Amount', 'Balance']\n",
    "T4 = pd.read_csv(\"Transactions3.csv\")\n",
    "T4.columns = ['Address', 'Day', 'Details', 'Amount', 'Balance']\n",
    "T5 = pd.read_csv(\"Transactions4.csv\")\n",
    "T5.columns = ['Address', 'Day', 'Details', 'Amount', 'Balance']\n",
    "T6 = pd.read_csv(\"Transactions5.csv\")\n",
    "T6.columns = ['Address', 'Day', 'Details', 'Amount', 'Balance']\n",
    "T7 = pd.read_csv(\"Transactions6.csv\")\n",
    "T7.columns = ['Address', 'Day', 'Details', 'Amount', 'Balance']\n",
    "T8 = pd.read_csv(\"Transactions7.csv\")\n",
    "T8.columns = ['Address', 'Day', 'Details', 'Amount', 'Balance']\n",
    "T9 = pd.read_csv(\"Transactions8.csv\")\n",
    "T9.columns = ['Address', 'Day', 'Details', 'Amount', 'Balance']\n",
    " \n",
    "T = pd.concat([T1, T2, T3, T4,T5,T6,T7,T8,T9], ignore_index=True)\n",
    "#Remove duplicates from the dataframe and save the new dataframe\n",
    "T = T.drop_duplicates()\n",
    "T.to_csv('UpdatedLedger.csv')\n",
    "T"
   ]
  },
  {
   "cell_type": "code",
   "execution_count": 29,
   "id": "c974c82f",
   "metadata": {},
   "outputs": [
    {
     "data": {
      "image/png": "[encoded data removed]",
      "text/plain": [
       "<Figure size 432x288 with 1 Axes>"
      ]
     },
     "metadata": {
      "needs_background": "light"
     },
     "output_type": "display_data"
    }
   ],
   "source": [
    "\n",
    "\n",
    "# Let's plot the closing balance for each day to \n",
    "#visualize how the business has been performing over the days.\n",
    "TD=T.sort_values('Day')\n",
    "\n",
    "# Initialize empty lists for days and closing_balance\n",
    "days = []\n",
    "closing_balances = []\n",
    "\n",
    "# Loop through each day and calculate the net change in balance\n",
    "for day, group in TD.groupby('Day'):\n",
    "    # Get the first and last transactions of the day\n",
    "    last_transaction = group.iloc[-1]\n",
    "    \n",
    "    # Find the closing balance\n",
    "    closing_balance = last_transaction['Balance']\n",
    "    # Append the day and net change to the lists\n",
    "    days.append(day)\n",
    "    closing_balances.append(closing_balance)\n",
    "\n",
    "# Create a line chart of net changes vs. days\n",
    "plt.plot(days, closing_balances)\n",
    "plt.xlabel('Day')\n",
    "plt.ylabel('Closing Balance')\n",
    "plt.title('Closing Balance')\n",
    "plt.show()\n"
   ]
  },
  {
   "cell_type": "code",
   "execution_count": 40,
   "id": "99a9b39a",
   "metadata": {},
   "outputs": [
    {
     "name": "stdout",
     "output_type": "stream",
     "text": [
      "Tax payment happens every 58 days\n"
     ]
    },
    {
     "data": {
      "text/html": [
       "<div>\n",
       "<style scoped>\n",
       "    .dataframe tbody tr th:only-of-type {\n",
       "        vertical-align: middle;\n",
       "    }\n",
       "\n",
       "    .dataframe tbody tr th {\n",
       "        vertical-align: top;\n",
       "    }\n",
       "\n",
       "    .dataframe thead th {\n",
       "        text-align: right;\n",
       "    }\n",
       "</style>\n",
       "<table border=\"1\" class=\"dataframe\">\n",
       "  <thead>\n",
       "    <tr style=\"text-align: right;\">\n",
       "      <th></th>\n",
       "      <th>Address</th>\n",
       "      <th>Day</th>\n",
       "      <th>Details</th>\n",
       "      <th>Amount</th>\n",
       "      <th>Balance</th>\n",
       "    </tr>\n",
       "  </thead>\n",
       "  <tbody>\n",
       "    <tr>\n",
       "      <th>3393</th>\n",
       "      <td>Tax Payment</td>\n",
       "      <td>127</td>\n",
       "      <td>TaxPayment</td>\n",
       "      <td>-27188.99</td>\n",
       "      <td>54952.88</td>\n",
       "    </tr>\n",
       "    <tr>\n",
       "      <th>7051</th>\n",
       "      <td>Tax Payment</td>\n",
       "      <td>185</td>\n",
       "      <td>TaxPayment</td>\n",
       "      <td>-119033.80</td>\n",
       "      <td>282717.00</td>\n",
       "    </tr>\n",
       "  </tbody>\n",
       "</table>\n",
       "</div>"
      ],
      "text/plain": [
       "          Address  Day     Details     Amount    Balance\n",
       "3393  Tax Payment  127  TaxPayment  -27188.99   54952.88\n",
       "7051  Tax Payment  185  TaxPayment -119033.80  282717.00"
      ]
     },
     "execution_count": 40,
     "metadata": {},
     "output_type": "execute_result"
    }
   ],
   "source": [
    "# Let's find out the details of the payments made to IRS:\n",
    "IRS = T[T['Details']=='TaxPayment']\n",
    "\n",
    "taxdays=IRS.iloc[1]['Day']-IRS.iloc[0]['Day']\n",
    "print(f'Tax payment happens every {taxdays} days')\n",
    "\n",
    "#Finding out all rent and deposit payments\n",
    "TProperties=T[(T['Address'].str.endswith('Rent'))|(T['Address'].str.endswith('Deposit'))]['Address'].unique()\n",
    "TProperties\n",
    "IRS"
   ]
  },
  {
   "cell_type": "code",
   "execution_count": 14,
   "id": "1836d2f4",
   "metadata": {},
   "outputs": [
    {
     "name": "stdout",
     "output_type": "stream",
     "text": [
      "['Deposit' 'Rent' 'VehicleBought' 'ItemPurchase' 'PublicParking'\n",
      " 'HospitalBill' 'TaxiRide' 'DepositReturnFurniture' 'DepositReturn'\n",
      " 'RecruitmentCampaign' 'InteriorDesigner' 'Marketing' 'Wage' 'Revenue'\n",
      " 'BankNegativeInterestRate' 'Investment' 'ParkingTicket' 'LoanPayout'\n",
      " 'LoanPayment' 'ImportDelivery' 'InvestmentPayout' 'SubwayRide'\n",
      " 'ReplacementWage' 'PlayerJobSalary' 'LoanPayOff' 'DeliveryContract'\n",
      " 'TaxPayment' 'EmployeeTraining' 'UnassignedWage' 'DeliveryContractRefund'\n",
      " 'ItemSold' 'ImportDeliveryRefund']\n"
     ]
    }
   ],
   "source": [
    "#Let's find out the different kinds of payments and revenues that we have in the dataframe\n",
    "\n",
    "unique_details = T['Details'].unique()\n",
    "print(unique_details)\n"
   ]
  },
  {
   "cell_type": "code",
   "execution_count": 15,
   "id": "907ba101",
   "metadata": {},
   "outputs": [
    {
     "name": "stdout",
     "output_type": "stream",
     "text": [
      "We have lost USD 1,023,966.2 to inflation till date.\n"
     ]
    }
   ],
   "source": [
    "# Let's find out the money we lost to inflation, ie 'BankNegativeInterestRate'\n",
    "inflation_loss = T[T['Details']=='BankNegativeInterestRate']['Amount'].sum()*-1\n",
    "print(f'We have lost USD {inflation_loss:,.1f} to inflation till date.')\n"
   ]
  },
  {
   "cell_type": "code",
   "execution_count": 27,
   "id": "bdc65eff",
   "metadata": {},
   "outputs": [
    {
     "name": "stdout",
     "output_type": "stream",
     "text": [
      "Expect inflation charges on Days:\n",
      " [225, 232, 239, 246, 253, 260, 267, 274, 281, 288]\n",
      "We generated the most revenue on Day 156 and netted about USD 436,593.84\n"
     ]
    }
   ],
   "source": [
    "#That's worrisome. Let's find out how often the game decides to hit us with inflation.\n",
    "inflation_data=T[T['Details']=='BankNegativeInterestRate']\n",
    "#print(f'{inflation_data}')\n",
    "#We find that inflation charges are made every seven days. Generating a list of days to notify us when this charge is made.\n",
    "upcoming_inf=[]\n",
    "for i in range(10):\n",
    "    if i==0:\n",
    "        inf_day=inflation_data.iloc[-1]['Day']+7\n",
    "    else:\n",
    "        inf_day+=7\n",
    "    upcoming_inf.append(inf_day)\n",
    "print(f'Expect inflation charges on Days:\\n {upcoming_inf}')\n",
    "#The most profitable day in the history of the company.\n",
    "# Group the expenses by day and sum the amounts for each day\n",
    "daily_revenue = T.groupby('Day')['Amount'].sum()\n",
    "\n",
    "# Find the day with the maximum revenue\n",
    "max_revenue_day = daily_revenue.idxmax()\n",
    "max_revenue=daily_revenue.max()\n",
    "print(f'We generated the most revenue on Day {max_revenue_day} and netted about USD {max_revenue:,.2f}')\n"
   ]
  },
  {
   "cell_type": "code",
   "execution_count": 35,
   "id": "b56f06b5",
   "metadata": {
    "scrolled": true
   },
   "outputs": [
    {
     "name": "stdout",
     "output_type": "stream",
     "text": [
      "['Deposit' 'Rent' 'VehicleBought' 'ItemPurchase' 'PublicParking'\n",
      " 'HospitalBill' 'TaxiRide' 'RecruitmentCampaign' 'InteriorDesigner'\n",
      " 'Marketing' 'Wage' 'BankNegativeInterestRate' 'Investment'\n",
      " 'ParkingTicket' 'LoanPayment' 'ImportDelivery' 'SubwayRide'\n",
      " 'ReplacementWage' 'LoanPayOff' 'DeliveryContract' 'TaxPayment'\n",
      " 'EmployeeTraining' 'UnassignedWage']\n"
     ]
    }
   ],
   "source": [
    "#Categories of Spend\n",
    "unique_spends = T[T['Amount']<=0]['Details'].unique()\n",
    "print(unique_spends)"
   ]
  },
  {
   "cell_type": "code",
   "execution_count": 20,
   "id": "8d328189",
   "metadata": {},
   "outputs": [
    {
     "data": {
      "image/png": "[encoded data removed]",
      "text/plain": [
       "<Figure size 432x288 with 2 Axes>"
      ]
     },
     "metadata": {
      "needs_background": "light"
     },
     "output_type": "display_data"
    }
   ],
   "source": [
    "#Impact of marketing on the Sales.\n",
    "marketing_costs = []\n",
    "daily_sales = []\n",
    "\n",
    "for day, group in TD.groupby('Day'):\n",
    "    #Calculate Daily Sales\n",
    "    daily_sale = group[group['Details']=='Revenue']['Amount'].sum()\n",
    "    daily_sales.append(daily_sale)\n",
    "    # Calculate the Daily Marketing Spend\n",
    "    marketing_cost = group[group['Details'] == 'Marketing']['Amount'].sum()*-1\n",
    "    marketing_costs.append(marketing_cost)\n",
    "    \n",
    "\n",
    "# Calculate the cumulative sum of marketing costs\n",
    "cumulative_costs = [sum(marketing_costs[:i+1]) for i in range(len(marketing_costs))]\n",
    "#Calculate the cumulative sales\n",
    "cumulative_sales = [sum(daily_sales[:i+1]) for i in range(len(daily_sales))]\n",
    "# Create a line chart of cumulative sales and cumulative marketing costs vs. days\n",
    "fig, ax1 = plt.subplots()\n",
    "\n",
    "# plot closing balance on first y-axis\n",
    "color = 'tab:red'\n",
    "ax1.set_xlabel('Day')\n",
    "ax1.set_ylabel('Cumulative Sales', color=color)\n",
    "ax1.plot(days, cumulative_sales, color=color)\n",
    "ax1.tick_params(axis='y', labelcolor=color)\n",
    "\n",
    "# plot daily marketing costs on second y-axis\n",
    "ax2 = ax1.twinx()  # instantiate a second axes that shares the same x-axis\n",
    "color = 'tab:blue'\n",
    "ax2.set_xlabel('Day')\n",
    "ax2.set_ylabel('Cumulative Marketing Costs', color=color)\n",
    "ax2.plot(days, cumulative_costs, color=color)\n",
    "ax2.tick_params(axis='y', labelcolor=color)\n",
    "\n",
    "plt.show()"
   ]
  },
  {
   "cell_type": "code",
   "execution_count": 39,
   "id": "d9077455",
   "metadata": {},
   "outputs": [
    {
     "name": "stdout",
     "output_type": "stream",
     "text": [
      "KPIs: \n",
      " 1. Net Revenue as of Day 220 : USD 9,138,132.94 \n",
      " 2. Gross Profit Margin: 79.30871894275595 %. \n",
      " 3. Net Profit = USD 3,239,096.74\n",
      " 4. Net Profit Margin: 10.14%.\n",
      " 5. Return on Investment(ROI): 123.57%.\n",
      " 6. Cost of Goods Sold (COGS): USD 1,890,796.77\n",
      " 7. Operating Expenses: USD 3,470,888.80\n",
      " 8. Break Even Point (BEP): 0.55\n"
     ]
    }
   ],
   "source": [
    "#Let's focus on finding a few KPI's to analyse the business. \n",
    "#Last Recorded Day\n",
    "day=T.iloc[-1]['Day']\n",
    "\n",
    "#1. Revenue\n",
    "net_revenue=T[T['Details']=='Revenue']['Amount'].sum()\n",
    "\n",
    "#2. Gross Profit Margin: (Revenue-COGS)/(Revenue)\n",
    "cogs=T[T['Details']=='ImportDelivery']['Amount'].sum()*-1\n",
    "\n",
    "gpm=((net_revenue-cogs)/(net_revenue))*100\n",
    "#3. Net Profit \n",
    "net_profit = (net_revenue-(T[T['Amount']<=0]['Amount'].sum()*-1)\n",
    "              -(T[T['Details']=='InvestmentPayout']['Amount'].sum()*-1)\n",
    "              +(T[T['Details']=='Investment']['Amount'].sum()*-1)\n",
    "             -(T[T['Details']=='TaxPayment']['Amount'].sum()*-1))\n",
    "              \n",
    "#4. Net Profit Margin: ((revenue-net_expenses)/(revenue))*100\n",
    "npm=((net_revenue-(T[T['Amount']<=0]['Amount'].sum()*-1))/(net_revenue))*100\n",
    "\n",
    "#5. Return on Investment (ROI): ((net_revenue-total_invested_amount)/(total_invested_amount))*100\n",
    "business_investments_list=['Deposit','Rent','VehicleBought','ItemPurchase','RecruitmentCampaign','InteriorDesigner','Marketing','Wage','ImportDelivery'\n",
    "                           ,'DeliveryContract']\n",
    "total_invested_amount=T[T['Details'].isin(business_investments_list)]['Amount'].sum()*-1\n",
    "roi=((net_revenue-total_invested_amount)/(total_invested_amount))*100\n",
    "\n",
    "#6. Cost of Goods Sold (COGS)\n",
    "#Found out earlier\n",
    "#7. Operating Expenses\n",
    "ops_list=['ItemPurchase','Marketing','Wage','ImportDelivery','ReplacementWage','DeliveryContract','EmployeeTraining','UnassignedWage']\n",
    "operating_expenses=T[T['Details'].isin(ops_list)]['Amount'].sum()*-1\n",
    "\n",
    "#8. Break Even Point (BEP) Total fixed costs divided by contribution margin (revenue minus variable costs)\n",
    "variable_costs_list=['ReplacementWage','LoanPayment','LoanPayOff','TaxPayment','EmployeeTraining','UnassignedWage','ReplacementWage','BankNegativeInterestRate']\n",
    "variable_costs=(T[T['Details'].isin(variable_costs_list)]['Amount'].sum()*-1)\n",
    "bep=(total_invested_amount)/(net_revenue-variable_costs)\n",
    "\n",
    "print(f'KPIs: \\n 1. Net Revenue as of Day {day} : USD {net_revenue:,.2f} \\n 2. Gross Profit Margin: {gpm} %. \\n 3. Net Profit = USD {net_profit:,.2f}') \n",
    "print(f' 4. Net Profit Margin: {npm:.2f}%.\\n 5. Return on Investment(ROI): {roi:.2f}%.\\n 6. Cost of Goods Sold (COGS): USD {cogs:,.2f}')\n",
    "print(f' 7. Operating Expenses: USD {operating_expenses:,.2f}\\n 8. Break Even Point (BEP): {bep:.2f}' )"
   ]
  },
  {
   "cell_type": "code",
   "execution_count": null,
   "id": "6037bd29",
   "metadata": {},
   "outputs": [],
   "source": []
  }
 ],
 "metadata": {
  "kernelspec": {
   "display_name": "Python 3 (ipykernel)",
   "language": "python",
   "name": "python3"
  },
  "language_info": {
   "codemirror_mode": {
    "name": "ipython",
    "version": 3
   },
   "file_extension": ".py",
   "mimetype": "text/x-python",
   "name": "python",
   "nbconvert_exporter": "python",
   "pygments_lexer": "ipython3",
   "version": "3.9.12"
  }
 },
 "nbformat": 4,
 "nbformat_minor": 5
}
